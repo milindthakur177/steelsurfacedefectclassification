{
  "nbformat": 4,
  "nbformat_minor": 0,
  "metadata": {
    "colab": {
      "name": "Steelsurfacedefectclassification.ipynb",
      "provenance": []
    },
    "kernelspec": {
      "name": "python3",
      "display_name": "Python 3"
    },
    "accelerator": "GPU"
  },
  "cells": [
    {
      "cell_type": "markdown",
      "metadata": {
        "id": "qQeni98ER1te"
      },
      "source": [
        "Importing Required Libraries"
      ]
    },
    {
      "cell_type": "code",
      "metadata": {
        "id": "NA8gCBFOUUSW"
      },
      "source": [
        "import numpy as np\n",
        "import pandas as pd\n",
        "import matplotlib.pyplot as plt\n",
        "%matplotlib inline\n",
        "import tensorflow as tf\n",
        "from keras.layers import Dense, Flatten,Conv2D , MaxPool2D , Dropout\n",
        "from keras.preprocessing.image import ImageDataGenerator\n",
        "from keras.models import Sequential\n",
        "import os\n",
        "import glob\n",
        "from PIL import Image,ImageOps,ImageEnhance"
      ],
      "execution_count": null,
      "outputs": []
    },
    {
      "cell_type": "markdown",
      "metadata": {
        "id": "VfmQHF2dR_0O"
      },
      "source": [
        "Data Pre-processing"
      ]
    },
    {
      "cell_type": "code",
      "metadata": {
        "id": "wK5kgc6SRtZ4"
      },
      "source": [
        "labels = ['NEU-TRAIN/Crazing','NEU-TRAIN/inclusion','NEU-TRAIN/patches','NEU-TRAIN/rolled-in-scale','NEU-TRAIN/scratches','NEU-TRAIN/pitted surface',\n",
        "          'NEU-TEST/Crazing','NEU-TEST/inclusion','NEU-TEST/patches','NEU-TEST/rolled-in-scale','NEU-TEST/scratches','NEU-TEST/pitted surface']\n",
        "\n",
        "for label in labels:\n",
        "    f = 'drive/My Drive/' + label    \n",
        "    \n",
        "    new_d = 224\n",
        "    for file in os.listdir(f):\n",
        "        f_img = f+'/'+file\n",
        "        try:\n",
        "            img = Image.open(f_img)\n",
        "           \n",
        "            img = img.resize((new_d, new_d))\n",
        "            \n",
        "            img = ImageOps.equalize(img, mask = None)\n",
        "\n",
        "            \n",
        "            \n",
        "            img.save(f_img)\n",
        "        except IOError:\n",
        "            pass"
      ],
      "execution_count": null,
      "outputs": []
    },
    {
      "cell_type": "code",
      "metadata": {
        "id": "6i-zELtTD6hn"
      },
      "source": [
        "train = 'drive/My Drive/NEU-TRAIN'\n",
        "test = 'drive/My Drive/NEU-TEST'"
      ],
      "execution_count": null,
      "outputs": []
    },
    {
      "cell_type": "markdown",
      "metadata": {
        "id": "ZqgOG1w5SFM7"
      },
      "source": [
        "Data Augmentation"
      ]
    },
    {
      "cell_type": "code",
      "metadata": {
        "id": "5C3GnZlhUa1c",
        "colab": {
          "base_uri": "https://localhost:8080/"
        },
        "outputId": "d9773936-4e9f-42cd-81d4-a40130e1bc0e"
      },
      "source": [
        "train_datagen = ImageDataGenerator(\n",
        "        rescale=1./255,\n",
        "        shear_range=0.2,\n",
        "        zoom_range=0.2,\n",
        "        horizontal_flip=True)\n",
        "\n",
        "test_datagen = ImageDataGenerator(rescale=1./255)\n",
        "\n",
        "training_set = train_datagen.flow_from_directory(\n",
        "        train,\n",
        "        target_size=(224, 224),\n",
        "        batch_size=64,\n",
        "        class_mode='categorical',\n",
        "        shuffle =True)\n",
        "\n",
        "\n",
        "test_set = test_datagen.flow_from_directory(\n",
        "        test,\n",
        "        target_size=(224, 224),\n",
        "        batch_size=64,\n",
        "        class_mode='categorical',\n",
        "        shuffle = True)"
      ],
      "execution_count": null,
      "outputs": [
        {
          "output_type": "stream",
          "text": [
            "Found 1224 images belonging to 6 classes.\n",
            "Found 576 images belonging to 6 classes.\n"
          ],
          "name": "stdout"
        }
      ]
    },
    {
      "cell_type": "markdown",
      "metadata": {
        "id": "FxSFaA7OSI4n"
      },
      "source": [
        "Building CNN Model"
      ]
    },
    {
      "cell_type": "code",
      "metadata": {
        "id": "4J08DdxJUi0F"
      },
      "source": [
        "model = Sequential()\n",
        "\n",
        "model.add(Conv2D(32, (3, 3), activation=\"relu\", input_shape=(224, 224, 3)))\n",
        "\n",
        "model.add(MaxPool2D(pool_size = (2, 2)))\n",
        "\n",
        "model.add(Dropout(0.2))\n",
        "\n",
        "model.add(Conv2D(64, (3, 3), activation=\"relu\", input_shape=(32, 32, 3)))\n",
        "\n",
        "model.add(MaxPool2D(pool_size = (2, 2)))\n",
        "\n",
        "model.add(Dropout(0.2))\n",
        "\n",
        "model.add(Conv2D(64, (3, 3), activation=\"relu\"))\n",
        "\n",
        "model.add(MaxPool2D(pool_size = (2, 2)))\n",
        "\n",
        "model.add(Flatten())\n",
        "\n",
        "model.add(Dense(activation = 'relu', units = 128))\n",
        "\n",
        "model.add(Dense(activation = 'relu', units = 64))\n",
        "\n",
        "model.add(Dense(activation = 'relu', units = 32))\n",
        "\n",
        "model.add(Dense(activation = 'softmax', units = 6))\n",
        "\n",
        "model.compile(optimizer = 'adam', loss = 'categorical_crossentropy',metrics= ['accuracy'])"
      ],
      "execution_count": null,
      "outputs": []
    },
    {
      "cell_type": "markdown",
      "metadata": {
        "id": "WZVtBvpvSOEx"
      },
      "source": [
        "Training Model"
      ]
    },
    {
      "cell_type": "code",
      "metadata": {
        "id": "VixXzWG-UqZM",
        "colab": {
          "base_uri": "https://localhost:8080/"
        },
        "outputId": "2162cbcf-d2bb-4bee-c253-9878a42e7454"
      },
      "source": [
        "my_callbacks = [\n",
        "    tf.keras.callbacks.EarlyStopping(patience=2),\n",
        "    \n",
        "    tf.keras.callbacks.TensorBoard(log_dir='./logs')\n",
        "]\n",
        "cnn_model = model.fit(training_set,\n",
        "                         steps_per_epoch = len(training_set),\n",
        "                         epochs = 30,\n",
        "                         validation_data = test_set,\n",
        "                         validation_steps =len(test_set),\n",
        "                        verbose =1,\n",
        "                      #callbacks = my_callbacks\n",
        "                         \n",
        "                         )"
      ],
      "execution_count": null,
      "outputs": [
        {
          "output_type": "stream",
          "text": [
            "Epoch 1/30\n",
            "20/20 [==============================] - 14s 693ms/step - loss: 2.7223 - accuracy: 0.1844 - val_loss: 1.7729 - val_accuracy: 0.1701\n",
            "Epoch 2/30\n",
            "20/20 [==============================] - 14s 678ms/step - loss: 1.7494 - accuracy: 0.1681 - val_loss: 1.7475 - val_accuracy: 0.1944\n",
            "Epoch 3/30\n",
            "20/20 [==============================] - 14s 686ms/step - loss: 1.6837 - accuracy: 0.2180 - val_loss: 1.6352 - val_accuracy: 0.3368\n",
            "Epoch 4/30\n",
            "20/20 [==============================] - 14s 681ms/step - loss: 1.6004 - accuracy: 0.2906 - val_loss: 1.4109 - val_accuracy: 0.5000\n",
            "Epoch 5/30\n",
            "20/20 [==============================] - 14s 692ms/step - loss: 1.3908 - accuracy: 0.4103 - val_loss: 1.1932 - val_accuracy: 0.4774\n",
            "Epoch 6/30\n",
            "20/20 [==============================] - 14s 679ms/step - loss: 0.9847 - accuracy: 0.6214 - val_loss: 1.1254 - val_accuracy: 0.5087\n",
            "Epoch 7/30\n",
            "20/20 [==============================] - 14s 685ms/step - loss: 1.0285 - accuracy: 0.6015 - val_loss: 0.8685 - val_accuracy: 0.7309\n",
            "Epoch 8/30\n",
            "20/20 [==============================] - 14s 687ms/step - loss: 0.7021 - accuracy: 0.7187 - val_loss: 0.8772 - val_accuracy: 0.6632\n",
            "Epoch 9/30\n",
            "20/20 [==============================] - 14s 677ms/step - loss: 0.5654 - accuracy: 0.7983 - val_loss: 0.7020 - val_accuracy: 0.6910\n",
            "Epoch 10/30\n",
            "20/20 [==============================] - 14s 679ms/step - loss: 0.5054 - accuracy: 0.8072 - val_loss: 0.8012 - val_accuracy: 0.6858\n",
            "Epoch 11/30\n",
            "20/20 [==============================] - 14s 689ms/step - loss: 0.3673 - accuracy: 0.8639 - val_loss: 0.8316 - val_accuracy: 0.6701\n",
            "Epoch 12/30\n",
            "20/20 [==============================] - 14s 692ms/step - loss: 0.4132 - accuracy: 0.8500 - val_loss: 0.6699 - val_accuracy: 0.7396\n",
            "Epoch 13/30\n",
            "20/20 [==============================] - 14s 682ms/step - loss: 0.2882 - accuracy: 0.8956 - val_loss: 0.6901 - val_accuracy: 0.7118\n",
            "Epoch 14/30\n",
            "20/20 [==============================] - 13s 673ms/step - loss: 0.2253 - accuracy: 0.9222 - val_loss: 0.5114 - val_accuracy: 0.7951\n",
            "Epoch 15/30\n",
            "20/20 [==============================] - 14s 684ms/step - loss: 0.1872 - accuracy: 0.9460 - val_loss: 0.5322 - val_accuracy: 0.7951\n",
            "Epoch 16/30\n",
            "20/20 [==============================] - 14s 685ms/step - loss: 0.1431 - accuracy: 0.9488 - val_loss: 0.8037 - val_accuracy: 0.7101\n",
            "Epoch 17/30\n",
            "20/20 [==============================] - 14s 682ms/step - loss: 0.1428 - accuracy: 0.9575 - val_loss: 0.5571 - val_accuracy: 0.7951\n",
            "Epoch 18/30\n",
            "20/20 [==============================] - 14s 676ms/step - loss: 0.1102 - accuracy: 0.9565 - val_loss: 0.5816 - val_accuracy: 0.7934\n",
            "Epoch 19/30\n",
            "20/20 [==============================] - 14s 676ms/step - loss: 0.1338 - accuracy: 0.9465 - val_loss: 1.7748 - val_accuracy: 0.5660\n",
            "Epoch 20/30\n",
            "20/20 [==============================] - 13s 672ms/step - loss: 0.8511 - accuracy: 0.7154 - val_loss: 0.8601 - val_accuracy: 0.7031\n",
            "Epoch 21/30\n",
            "20/20 [==============================] - 14s 678ms/step - loss: 0.4026 - accuracy: 0.8745 - val_loss: 0.6238 - val_accuracy: 0.7986\n",
            "Epoch 22/30\n",
            "20/20 [==============================] - 14s 709ms/step - loss: 0.1793 - accuracy: 0.9301 - val_loss: 0.4410 - val_accuracy: 0.8576\n",
            "Epoch 23/30\n",
            "20/20 [==============================] - 14s 682ms/step - loss: 0.1420 - accuracy: 0.9484 - val_loss: 0.7672 - val_accuracy: 0.7517\n",
            "Epoch 24/30\n",
            "20/20 [==============================] - 14s 678ms/step - loss: 0.1458 - accuracy: 0.9488 - val_loss: 0.4314 - val_accuracy: 0.8316\n",
            "Epoch 25/30\n",
            "20/20 [==============================] - 14s 675ms/step - loss: 0.1111 - accuracy: 0.9517 - val_loss: 0.4947 - val_accuracy: 0.8247\n",
            "Epoch 26/30\n",
            "20/20 [==============================] - 14s 679ms/step - loss: 0.1279 - accuracy: 0.9480 - val_loss: 0.4707 - val_accuracy: 0.8576\n",
            "Epoch 27/30\n",
            "20/20 [==============================] - 14s 680ms/step - loss: 0.0932 - accuracy: 0.9665 - val_loss: 0.6071 - val_accuracy: 0.8264\n",
            "Epoch 28/30\n",
            "20/20 [==============================] - 14s 687ms/step - loss: 0.0687 - accuracy: 0.9848 - val_loss: 0.4124 - val_accuracy: 0.8733\n",
            "Epoch 29/30\n",
            "20/20 [==============================] - 14s 680ms/step - loss: 0.0668 - accuracy: 0.9769 - val_loss: 0.4623 - val_accuracy: 0.8507\n",
            "Epoch 30/30\n",
            "20/20 [==============================] - 14s 679ms/step - loss: 0.1061 - accuracy: 0.9585 - val_loss: 0.4105 - val_accuracy: 0.8611\n"
          ],
          "name": "stdout"
        }
      ]
    },
    {
      "cell_type": "code",
      "metadata": {
        "id": "NXSyIZ1iLFO4"
      },
      "source": [
        "cnn_model.history"
      ],
      "execution_count": null,
      "outputs": []
    },
    {
      "cell_type": "markdown",
      "metadata": {
        "id": "kZcHfqdHSSaF"
      },
      "source": [
        "Accuracy Plot"
      ]
    },
    {
      "cell_type": "code",
      "metadata": {
        "id": "_swPpZJxhpXD",
        "colab": {
          "base_uri": "https://localhost:8080/",
          "height": 295
        },
        "outputId": "7897d642-c383-4a8e-d975-39b7dfd637b1"
      },
      "source": [
        "acc = cnn_model.history['accuracy']\n",
        "val_acc = cnn_model.history['val_accuracy']\n",
        "plt.plot(acc, label='Training Accuracy')\n",
        "plt.plot(val_acc,label='Val Accuracy')\n",
        "plt.title('Accuracy ')\n",
        "plt.xlabel('Epochs')\n",
        "plt.ylabel('Accuracy')\n",
        "plt.legend()\n",
        "plt.show()"
      ],
      "execution_count": null,
      "outputs": [
        {
          "output_type": "display_data",
          "data": {
            "image/png": "[encoded data removed]",
            "text/plain": [
              "<Figure size 432x288 with 1 Axes>"
            ]
          },
          "metadata": {
            "tags": [],
            "needs_background": "light"
          }
        }
      ]
    },
    {
      "cell_type": "markdown",
      "metadata": {
        "id": "rWOy_ZI0SXW_"
      },
      "source": [
        "Loss Plot"
      ]
    },
    {
      "cell_type": "code",
      "metadata": {
        "id": "7Cu7jKBkWTfH",
        "colab": {
          "base_uri": "https://localhost:8080/",
          "height": 295
        },
        "outputId": "1caf7c1f-3e1d-4d53-e2e8-0ffb0c6cb510"
      },
      "source": [
        "loss = cnn_model.history['loss']\r\n",
        "val_loss = cnn_model.history['val_loss']\r\n",
        "\r\n",
        "plt.plot(loss,'g', label='Training Loss')\r\n",
        "plt.plot(val_loss,'g', label='Val Loss')\r\n",
        "plt.title('Loss ')\r\n",
        "plt.xlabel('Epochs')\r\n",
        "plt.ylabel('Accuracy')\r\n",
        "plt.legend()\r\n",
        "plt.show()"
      ],
      "execution_count": null,
      "outputs": [
        {
          "output_type": "display_data",
          "data": {
            "image/png": "[encoded data removed]",
            "text/plain": [
              "<Figure size 432x288 with 1 Axes>"
            ]
          },
          "metadata": {
            "tags": [],
            "needs_background": "light"
          }
        }
      ]
    },
    {
      "cell_type": "code",
      "metadata": {
        "id": "vipOkNWTznB2"
      },
      "source": [
        ""
      ],
      "execution_count": null,
      "outputs": []
    }
  ]
}